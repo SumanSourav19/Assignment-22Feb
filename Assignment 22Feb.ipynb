{
 "cells": [
  {
   "cell_type": "markdown",
   "id": "62bb3b37-6563-46d2-b40e-d7ab9f57295a",
   "metadata": {},
   "source": [
    "Q1. Create a Pandas Series that contains the following data: 4, 8, 15, 16, 23, and 42. Then, print the series."
   ]
  },
  {
   "cell_type": "code",
   "execution_count": 2,
   "id": "16d692ea-42e1-478f-844a-6b1b0a47cbc9",
   "metadata": {},
   "outputs": [],
   "source": [
    "import pandas as pd"
   ]
  },
  {
   "cell_type": "code",
   "execution_count": 3,
   "id": "3b661bdb-7469-4f1f-97bd-a8cc513d4aff",
   "metadata": {},
   "outputs": [],
   "source": [
    "import numpy as np"
   ]
  },
  {
   "cell_type": "code",
   "execution_count": 4,
   "id": "3fd107c3-3225-44a1-bf11-83cd53c9eb1f",
   "metadata": {},
   "outputs": [
    {
     "data": {
      "text/plain": [
       "0     4\n",
       "1     8\n",
       "2    15\n",
       "3    16\n",
       "4    23\n",
       "5    42\n",
       "dtype: int64"
      ]
     },
     "execution_count": 4,
     "metadata": {},
     "output_type": "execute_result"
    }
   ],
   "source": [
    "data = np.array([4,8,15,16,23,42])\n",
    "pd.Series(data)"
   ]
  },
  {
   "cell_type": "markdown",
   "id": "70f6ec21-2c22-483a-876d-45ead536b04b",
   "metadata": {},
   "source": [
    "Q2. Create a variable of list type containing 10 elements in it, and apply pandas.Series function on the\n",
    "variable print it."
   ]
  },
  {
   "cell_type": "code",
   "execution_count": 5,
   "id": "656c59e7-cebc-46f1-b635-1c448e3c59dc",
   "metadata": {},
   "outputs": [
    {
     "data": {
      "text/plain": [
       "0     Pwskills\n",
       "1            8\n",
       "2         2.35\n",
       "3           HP\n",
       "4    Microsoft\n",
       "5       Google\n",
       "6        Texla\n",
       "7        Apple\n",
       "8       SpaceX\n",
       "9     TataSons\n",
       "dtype: object"
      ]
     },
     "execution_count": 5,
     "metadata": {},
     "output_type": "execute_result"
    }
   ],
   "source": [
    "Elements =  [\"Pwskills\", 8, 2.35, \"HP\", \"Microsoft\", \"Google\", \"Texla\", \"Apple\", \"SpaceX\", \"TataSons\" ]\n",
    "pd.Series(Elements)"
   ]
  },
  {
   "cell_type": "markdown",
   "id": "549bed32-f2a1-427d-9c5c-c1d2cb8d6399",
   "metadata": {},
   "source": [
    "Q3. Create a Pandas DataFrame that contains the following data:\n",
    "\n",
    "Name\n",
    "Alice\n",
    "Bob\n",
    "Claire\n",
    "Age\n",
    "25\n",
    "30\n",
    "27\n",
    "\n",
    "Gender\n",
    "Female\n",
    "Male\n",
    "Female"
   ]
  },
  {
   "cell_type": "code",
   "execution_count": 7,
   "id": "5f245297-7f17-4581-9259-8793d77c803e",
   "metadata": {},
   "outputs": [],
   "source": [
    "Data  = { 'Name': ['Alice', 'Bob', 'Claire'], 'Age': ['25', '30','27'], 'Gender': ['Female', 'Male', 'Female']}"
   ]
  },
  {
   "cell_type": "code",
   "execution_count": 15,
   "id": "53f7db79-a927-458a-be37-553f1827f610",
   "metadata": {},
   "outputs": [
    {
     "data": {
      "text/html": [
       "<div>\n",
       "<style scoped>\n",
       "    .dataframe tbody tr th:only-of-type {\n",
       "        vertical-align: middle;\n",
       "    }\n",
       "\n",
       "    .dataframe tbody tr th {\n",
       "        vertical-align: top;\n",
       "    }\n",
       "\n",
       "    .dataframe thead th {\n",
       "        text-align: right;\n",
       "    }\n",
       "</style>\n",
       "<table border=\"1\" class=\"dataframe\">\n",
       "  <thead>\n",
       "    <tr style=\"text-align: right;\">\n",
       "      <th></th>\n",
       "      <th>Name</th>\n",
       "      <th>Age</th>\n",
       "      <th>Gender</th>\n",
       "    </tr>\n",
       "  </thead>\n",
       "  <tbody>\n",
       "    <tr>\n",
       "      <th>0</th>\n",
       "      <td>Alice</td>\n",
       "      <td>25</td>\n",
       "      <td>Female</td>\n",
       "    </tr>\n",
       "    <tr>\n",
       "      <th>1</th>\n",
       "      <td>Bob</td>\n",
       "      <td>30</td>\n",
       "      <td>Male</td>\n",
       "    </tr>\n",
       "    <tr>\n",
       "      <th>2</th>\n",
       "      <td>Claire</td>\n",
       "      <td>27</td>\n",
       "      <td>Female</td>\n",
       "    </tr>\n",
       "  </tbody>\n",
       "</table>\n",
       "</div>"
      ],
      "text/plain": [
       "     Name Age  Gender\n",
       "0   Alice  25  Female\n",
       "1     Bob  30    Male\n",
       "2  Claire  27  Female"
      ]
     },
     "execution_count": 15,
     "metadata": {},
     "output_type": "execute_result"
    }
   ],
   "source": [
    "pd.DataFrame(Data)"
   ]
  },
  {
   "cell_type": "markdown",
   "id": "916ecde6-3aec-4c74-bbd8-0ebf5e218e22",
   "metadata": {},
   "source": [
    "Q4. What is ‘DataFrame’ in pandas and how is it different from pandas.series? Explain with an example."
   ]
  },
  {
   "cell_type": "markdown",
   "id": "de32280a-c02f-46e8-915e-c65fe6b38206",
   "metadata": {},
   "source": [
    "Ans) Series in pandas contains a single list which can store heterogeneous type of data, because of this, series is also considered as a 1-dimensional data structure. On the other hand, DataFrame is a 2-dimensional data structure which contains multiple lists of heterogeneous type of data. "
   ]
  },
  {
   "cell_type": "markdown",
   "id": "b8aecc30-e3ad-48bd-9b6c-6c28ec4ccccb",
   "metadata": {},
   "source": [
    "Q5. What are some common functions you can use to manipulate data in a Pandas DataFrame? Can\n",
    "you give an example of when you might use one of these functions?"
   ]
  },
  {
   "cell_type": "markdown",
   "id": "162db5ba-795a-47da-aa7c-5a3adc3314f3",
   "metadata": {},
   "source": [
    "Ans) a)df.head() and df.tail()-  The simplest way is to display some rows. Head and tail allow us to display rows from the top to bottom of data frame. \n",
    "\n",
    "b) datainfo() - Pandas dataframe.info() function is used to get a concise summary of the dataframe\n",
    "\n",
    "c) data.dtpes()- Dtypes shows the data type of each column.\n",
    "\n",
    "d) data.shape() - Return the number of rows and columns.\n",
    "\n",
    "e) describe() - Describe the statistical data summary for every numerical column. \n",
    "\n"
   ]
  },
  {
   "cell_type": "markdown",
   "id": "fdc37d54-25a1-4a09-ad13-23b9ddf3e959",
   "metadata": {},
   "source": [
    "Q6. Which of the following is mutable in nature Series, DataFrame, Panel?"
   ]
  },
  {
   "cell_type": "raw",
   "id": "c3cb5230-7c96-4f05-aee8-92121ab6d82f",
   "metadata": {},
   "source": [
    "Data Structure\t      Dimensions\t        Data Type\t          Data           Size\n",
    "Series       \t One-dimensional array   \tHomogeneous data\t  Mutable   \tImmutable\n",
    "Data Frame\t     Two-dimensional array\t    Heterogeneous data\t  Mutable\t    Mutable\n",
    "Panel\t         Three-dimensional array    Heterogeneous data\t  Mutable\t    Mutable"
   ]
  },
  {
   "cell_type": "markdown",
   "id": "a3c822ee-8fb1-4821-bed7-19075e290fc6",
   "metadata": {},
   "source": [
    "Q7. Create a DataFrame using multiple Series. Explain with an example."
   ]
  },
  {
   "cell_type": "code",
   "execution_count": 18,
   "id": "a7893366-44b7-464b-9626-97352ac30ba1",
   "metadata": {},
   "outputs": [],
   "source": [
    "author = ['Jitender', 'Purnima',\n",
    "          'Arpit', 'Jyoti']\n",
    "article = [210, 211, 114, 178]\n",
    "\n",
    "auth_series = pd.Series(author)\n",
    "article_series = pd.Series(article)\n",
    " \n",
    "\n",
    "frame = {'Author': auth_series,\n",
    "         'Article': article_series}\n",
    " \n",
    "\n",
    "result = pd.DataFrame(frame)\n",
    " "
   ]
  },
  {
   "cell_type": "code",
   "execution_count": 21,
   "id": "3b77fc89-ce35-45ec-9038-ad3f550090db",
   "metadata": {},
   "outputs": [
    {
     "data": {
      "text/html": [
       "<div>\n",
       "<style scoped>\n",
       "    .dataframe tbody tr th:only-of-type {\n",
       "        vertical-align: middle;\n",
       "    }\n",
       "\n",
       "    .dataframe tbody tr th {\n",
       "        vertical-align: top;\n",
       "    }\n",
       "\n",
       "    .dataframe thead th {\n",
       "        text-align: right;\n",
       "    }\n",
       "</style>\n",
       "<table border=\"1\" class=\"dataframe\">\n",
       "  <thead>\n",
       "    <tr style=\"text-align: right;\">\n",
       "      <th></th>\n",
       "      <th>Author</th>\n",
       "      <th>Article</th>\n",
       "    </tr>\n",
       "  </thead>\n",
       "  <tbody>\n",
       "    <tr>\n",
       "      <th>0</th>\n",
       "      <td>Jitender</td>\n",
       "      <td>210</td>\n",
       "    </tr>\n",
       "    <tr>\n",
       "      <th>1</th>\n",
       "      <td>Purnima</td>\n",
       "      <td>211</td>\n",
       "    </tr>\n",
       "    <tr>\n",
       "      <th>2</th>\n",
       "      <td>Arpit</td>\n",
       "      <td>114</td>\n",
       "    </tr>\n",
       "    <tr>\n",
       "      <th>3</th>\n",
       "      <td>Jyoti</td>\n",
       "      <td>178</td>\n",
       "    </tr>\n",
       "  </tbody>\n",
       "</table>\n",
       "</div>"
      ],
      "text/plain": [
       "     Author  Article\n",
       "0  Jitender      210\n",
       "1   Purnima      211\n",
       "2     Arpit      114\n",
       "3     Jyoti      178"
      ]
     },
     "execution_count": 21,
     "metadata": {},
     "output_type": "execute_result"
    }
   ],
   "source": [
    "result"
   ]
  },
  {
   "cell_type": "code",
   "execution_count": null,
   "id": "912864c0-cec4-4ac0-b468-c3e546ca687f",
   "metadata": {},
   "outputs": [],
   "source": []
  }
 ],
 "metadata": {
  "kernelspec": {
   "display_name": "Python 3 (ipykernel)",
   "language": "python",
   "name": "python3"
  },
  "language_info": {
   "codemirror_mode": {
    "name": "ipython",
    "version": 3
   },
   "file_extension": ".py",
   "mimetype": "text/x-python",
   "name": "python",
   "nbconvert_exporter": "python",
   "pygments_lexer": "ipython3",
   "version": "3.10.8"
  }
 },
 "nbformat": 4,
 "nbformat_minor": 5
}
